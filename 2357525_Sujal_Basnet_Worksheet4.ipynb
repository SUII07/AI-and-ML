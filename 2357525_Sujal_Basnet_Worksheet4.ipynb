{
  "nbformat": 4,
  "nbformat_minor": 0,
  "metadata": {
    "colab": {
      "provenance": []
    },
    "kernelspec": {
      "name": "python3",
      "display_name": "Python 3"
    },
    "language_info": {
      "name": "python"
    }
  },
  "cells": [
    {
      "cell_type": "markdown",
      "source": [
        "\n",
        "#**Name: SUjal Banset**\n",
        "\n",
        "# **Uni ID: 2357525**\n",
        "\n"
      ],
      "metadata": {
        "id": "KjMbN58Hc2EJ"
      }
    },
    {
      "cell_type": "markdown",
      "source": [
        "**Exercise:** Build a Neural Network to Recognize Devnagari Handwritten Digits\n",
        "\n",
        "**Goal:** Create and train a neural network to identify Devnagari digits (0-9) using Python, TensorFlow, and Keras working with images from a dataset, process them, and build a model to classify them."
      ],
      "metadata": {
        "id": "IcyrHRnegn43"
      }
    },
    {
      "cell_type": "code",
      "execution_count": 1,
      "metadata": {
        "colab": {
          "base_uri": "https://localhost:8080/"
        },
        "id": "j5CvHtZ7cqpA",
        "outputId": "5923054d-12b8-4eb4-f859-9388bc1781cf"
      },
      "outputs": [
        {
          "output_type": "stream",
          "name": "stdout",
          "text": [
            "Mounted at /content/drive\n"
          ]
        }
      ],
      "source": [
        "from google.colab import drive\n",
        "drive.mount('/content/drive')"
      ]
    },
    {
      "cell_type": "code",
      "source": [
        "# Import necessary libraries\n",
        "import os\n",
        "import numpy as np\n",
        "import tensorflow as tf\n",
        "from tensorflow.keras import layers, models\n",
        "from tensorflow.keras.utils import to_categorical\n",
        "from tensorflow.keras.callbacks import ModelCheckpoint, EarlyStopping\n",
        "from PIL import Image\n",
        "import matplotlib.pyplot as plt"
      ],
      "metadata": {
        "id": "CSMj4G_Nj2YQ"
      },
      "execution_count": 2,
      "outputs": []
    },
    {
      "cell_type": "markdown",
      "source": [
        "#Task 1: Data Preparation:\n",
        "\n",
        "* Download the Devnagari digits dataset folder provided.\n",
        "* Use the Python Imaging Library (PIL) to load the images from the \"Train\" and \"Test\" folders.\n",
        "* Turn the images into numbers (Numpy arrays) and adjust their values to be between 0 and 1 (normalization).\n",
        "* Resize all images to 28x28 pixels.\n",
        "* Label each image based on its folder (e.g., \"digit_0\" = 0, \"digit_1\" = 1, etc.).\n",
        "* Convert the labels into a format the model can use (one-hot encoding)."
      ],
      "metadata": {
        "id": "zhHxZQTwgT5h"
      }
    },
    {
      "cell_type": "code",
      "source": [
        "# Task 1: Data Preparation\n",
        "train_dir = \"/content/drive/MyDrive/AI & ML/Week_4/DevanagariHandwrittenDigitDataset/Train\"\n",
        "test_dir = \"/content/drive/MyDrive/AI & ML/Week_4/DevanagariHandwrittenDigitDataset/Test\"\n",
        "img_size = 28  # 28x28 images\n",
        "\n",
        "# Function to load images and labels\n",
        "def load_images(folder):\n",
        "    images = []\n",
        "    labels = []\n",
        "    for digit in range(10):  # Folders named digit_0 to digit_9\n",
        "        folder_path = os.path.join(folder, f\"digit_{digit}\")\n",
        "        for filename in os.listdir(folder_path):\n",
        "            img_path = os.path.join(folder_path, filename)\n",
        "            img = Image.open(img_path).convert(\"L\")  # Grayscale\n",
        "            img = img.resize((img_size, img_size))  # Resize to 28x28\n",
        "            img = np.array(img) / 255.0  # Normalize to [0, 1]\n",
        "            images.append(img.flatten())  # Flatten to 784 values\n",
        "            labels.append(digit)\n",
        "    return np.array(images), np.array(labels)\n",
        "\n",
        "# Load training and testing data\n",
        "x_train, y_train = load_images(train_dir)\n",
        "x_test, y_test = load_images(test_dir)\n",
        "\n",
        "# One-hot encode labels\n",
        "y_train = to_categorical(y_train, 10)\n",
        "y_test = to_categorical(y_test, 10)\n",
        "\n",
        "print(f\"Training data shape: {x_train.shape}\")\n",
        "print(f\"Testing data shape: {x_test.shape}\")"
      ],
      "metadata": {
        "colab": {
          "base_uri": "https://localhost:8080/"
        },
        "id": "gpbS3iDRkRD2",
        "outputId": "cce0928c-7066-402b-818e-dea530cb991e"
      },
      "execution_count": 3,
      "outputs": [
        {
          "output_type": "stream",
          "name": "stdout",
          "text": [
            "Training data shape: (17060, 784)\n",
            "Testing data shape: (3000, 784)\n"
          ]
        }
      ]
    },
    {
      "cell_type": "markdown",
      "source": [
        "#Task 2: Build the FCN Model\n",
        "\n",
        "* Make a simple model using Keras’ Sequential style.\n",
        "* Add 3 hidden layers:\n",
        "> * First layer: 64 neurons with a sigmoid activation.\n",
        "> * Second layer: 128 neurons with a sigmoid activation.\n",
        "> * Third layer: 256 neurons with a sigmoid activation.\n",
        "* Add an output layer with 10 neurons (one for each digit) and use a softmax activation.\n"
      ],
      "metadata": {
        "id": "6gp-D8a5hMsN"
      }
    },
    {
      "cell_type": "code",
      "source": [
        "# Task 2: Build the FCN Model\n",
        "model = models.Sequential([\n",
        "    layers.Input(shape=(784,)),  # Explicit Input layer\n",
        "    layers.Dense(64, activation='sigmoid'),\n",
        "    layers.Dense(128, activation='sigmoid'),\n",
        "    layers.Dense(256, activation='sigmoid'),\n",
        "    layers.Dense(10, activation='softmax')\n",
        "])\n",
        "\n",
        "# Display model summary\n",
        "model.summary()"
      ],
      "metadata": {
        "colab": {
          "base_uri": "https://localhost:8080/",
          "height": 257
        },
        "id": "CdHu84x6kzbi",
        "outputId": "a9c82533-22e7-4e84-d3f1-1f629cb1bc56"
      },
      "execution_count": 4,
      "outputs": [
        {
          "output_type": "display_data",
          "data": {
            "text/plain": [
              "\u001b[1mModel: \"sequential\"\u001b[0m\n"
            ],
            "text/html": [
              "<pre style=\"white-space:pre;overflow-x:auto;line-height:normal;font-family:Menlo,'DejaVu Sans Mono',consolas,'Courier New',monospace\"><span style=\"font-weight: bold\">Model: \"sequential\"</span>\n",
              "</pre>\n"
            ]
          },
          "metadata": {}
        },
        {
          "output_type": "display_data",
          "data": {
            "text/plain": [
              "┏━━━━━━━━━━━━━━━━━━━━━━━━━━━━━━━━━━━━━━┳━━━━━━━━━━━━━━━━━━━━━━━━━━━━━┳━━━━━━━━━━━━━━━━━┓\n",
              "┃\u001b[1m \u001b[0m\u001b[1mLayer (type)                        \u001b[0m\u001b[1m \u001b[0m┃\u001b[1m \u001b[0m\u001b[1mOutput Shape               \u001b[0m\u001b[1m \u001b[0m┃\u001b[1m \u001b[0m\u001b[1m        Param #\u001b[0m\u001b[1m \u001b[0m┃\n",
              "┡━━━━━━━━━━━━━━━━━━━━━━━━━━━━━━━━━━━━━━╇━━━━━━━━━━━━━━━━━━━━━━━━━━━━━╇━━━━━━━━━━━━━━━━━┩\n",
              "│ dense (\u001b[38;5;33mDense\u001b[0m)                        │ (\u001b[38;5;45mNone\u001b[0m, \u001b[38;5;34m64\u001b[0m)                  │          \u001b[38;5;34m50,240\u001b[0m │\n",
              "├──────────────────────────────────────┼─────────────────────────────┼─────────────────┤\n",
              "│ dense_1 (\u001b[38;5;33mDense\u001b[0m)                      │ (\u001b[38;5;45mNone\u001b[0m, \u001b[38;5;34m128\u001b[0m)                 │           \u001b[38;5;34m8,320\u001b[0m │\n",
              "├──────────────────────────────────────┼─────────────────────────────┼─────────────────┤\n",
              "│ dense_2 (\u001b[38;5;33mDense\u001b[0m)                      │ (\u001b[38;5;45mNone\u001b[0m, \u001b[38;5;34m256\u001b[0m)                 │          \u001b[38;5;34m33,024\u001b[0m │\n",
              "├──────────────────────────────────────┼─────────────────────────────┼─────────────────┤\n",
              "│ dense_3 (\u001b[38;5;33mDense\u001b[0m)                      │ (\u001b[38;5;45mNone\u001b[0m, \u001b[38;5;34m10\u001b[0m)                  │           \u001b[38;5;34m2,570\u001b[0m │\n",
              "└──────────────────────────────────────┴─────────────────────────────┴─────────────────┘\n"
            ],
            "text/html": [
              "<pre style=\"white-space:pre;overflow-x:auto;line-height:normal;font-family:Menlo,'DejaVu Sans Mono',consolas,'Courier New',monospace\">┏━━━━━━━━━━━━━━━━━━━━━━━━━━━━━━━━━━━━━━┳━━━━━━━━━━━━━━━━━━━━━━━━━━━━━┳━━━━━━━━━━━━━━━━━┓\n",
              "┃<span style=\"font-weight: bold\"> Layer (type)                         </span>┃<span style=\"font-weight: bold\"> Output Shape                </span>┃<span style=\"font-weight: bold\">         Param # </span>┃\n",
              "┡━━━━━━━━━━━━━━━━━━━━━━━━━━━━━━━━━━━━━━╇━━━━━━━━━━━━━━━━━━━━━━━━━━━━━╇━━━━━━━━━━━━━━━━━┩\n",
              "│ dense (<span style=\"color: #0087ff; text-decoration-color: #0087ff\">Dense</span>)                        │ (<span style=\"color: #00d7ff; text-decoration-color: #00d7ff\">None</span>, <span style=\"color: #00af00; text-decoration-color: #00af00\">64</span>)                  │          <span style=\"color: #00af00; text-decoration-color: #00af00\">50,240</span> │\n",
              "├──────────────────────────────────────┼─────────────────────────────┼─────────────────┤\n",
              "│ dense_1 (<span style=\"color: #0087ff; text-decoration-color: #0087ff\">Dense</span>)                      │ (<span style=\"color: #00d7ff; text-decoration-color: #00d7ff\">None</span>, <span style=\"color: #00af00; text-decoration-color: #00af00\">128</span>)                 │           <span style=\"color: #00af00; text-decoration-color: #00af00\">8,320</span> │\n",
              "├──────────────────────────────────────┼─────────────────────────────┼─────────────────┤\n",
              "│ dense_2 (<span style=\"color: #0087ff; text-decoration-color: #0087ff\">Dense</span>)                      │ (<span style=\"color: #00d7ff; text-decoration-color: #00d7ff\">None</span>, <span style=\"color: #00af00; text-decoration-color: #00af00\">256</span>)                 │          <span style=\"color: #00af00; text-decoration-color: #00af00\">33,024</span> │\n",
              "├──────────────────────────────────────┼─────────────────────────────┼─────────────────┤\n",
              "│ dense_3 (<span style=\"color: #0087ff; text-decoration-color: #0087ff\">Dense</span>)                      │ (<span style=\"color: #00d7ff; text-decoration-color: #00d7ff\">None</span>, <span style=\"color: #00af00; text-decoration-color: #00af00\">10</span>)                  │           <span style=\"color: #00af00; text-decoration-color: #00af00\">2,570</span> │\n",
              "└──────────────────────────────────────┴─────────────────────────────┴─────────────────┘\n",
              "</pre>\n"
            ]
          },
          "metadata": {}
        },
        {
          "output_type": "display_data",
          "data": {
            "text/plain": [
              "\u001b[1m Total params: \u001b[0m\u001b[38;5;34m94,154\u001b[0m (367.79 KB)\n"
            ],
            "text/html": [
              "<pre style=\"white-space:pre;overflow-x:auto;line-height:normal;font-family:Menlo,'DejaVu Sans Mono',consolas,'Courier New',monospace\"><span style=\"font-weight: bold\"> Total params: </span><span style=\"color: #00af00; text-decoration-color: #00af00\">94,154</span> (367.79 KB)\n",
              "</pre>\n"
            ]
          },
          "metadata": {}
        },
        {
          "output_type": "display_data",
          "data": {
            "text/plain": [
              "\u001b[1m Trainable params: \u001b[0m\u001b[38;5;34m94,154\u001b[0m (367.79 KB)\n"
            ],
            "text/html": [
              "<pre style=\"white-space:pre;overflow-x:auto;line-height:normal;font-family:Menlo,'DejaVu Sans Mono',consolas,'Courier New',monospace\"><span style=\"font-weight: bold\"> Trainable params: </span><span style=\"color: #00af00; text-decoration-color: #00af00\">94,154</span> (367.79 KB)\n",
              "</pre>\n"
            ]
          },
          "metadata": {}
        },
        {
          "output_type": "display_data",
          "data": {
            "text/plain": [
              "\u001b[1m Non-trainable params: \u001b[0m\u001b[38;5;34m0\u001b[0m (0.00 B)\n"
            ],
            "text/html": [
              "<pre style=\"white-space:pre;overflow-x:auto;line-height:normal;font-family:Menlo,'DejaVu Sans Mono',consolas,'Courier New',monospace\"><span style=\"font-weight: bold\"> Non-trainable params: </span><span style=\"color: #00af00; text-decoration-color: #00af00\">0</span> (0.00 B)\n",
              "</pre>\n"
            ]
          },
          "metadata": {}
        }
      ]
    },
    {
      "cell_type": "markdown",
      "source": [
        "#Task 3: Compile the Model\n",
        "\n",
        "* Prepare the model for training by picking:\n",
        "> * An optimizer (like Adam).\n",
        "> * A loss function (like sparse categorical crossentropy).\n",
        "> * A metric to track (like accuracy).\n",
        "\n"
      ],
      "metadata": {
        "id": "mfMvWTvDhyb8"
      }
    },
    {
      "cell_type": "code",
      "source": [
        "# Task 3: Compile the Model\n",
        "model.compile(optimizer='adam', loss='categorical_crossentropy', metrics=['accuracy'])"
      ],
      "metadata": {
        "id": "b0pdzmiWlfYw"
      },
      "execution_count": 5,
      "outputs": []
    },
    {
      "cell_type": "markdown",
      "source": [
        "#Task 4: Train the Model\n",
        "\n",
        "* Train the model using the model.fit() function.\n",
        "* Use a batch size of 128 and train for 20 rounds (epochs).\n",
        "* Set aside 20% of the training data to check progress (validation_split=0.2).\n",
        "* (Optional) Add tools like ModelCheckpoint to save the best version and EarlyStopping to stop if it’s not improving."
      ],
      "metadata": {
        "id": "TmxAaaMuiRDn"
      }
    },
    {
      "cell_type": "code",
      "source": [
        "# Task 4: Train the Model with Callbacks\n",
        "# Define callbacks with .keras format\n",
        "callbacks = [\n",
        "    ModelCheckpoint(filepath='best_devnagari_model.keras', monitor='val_loss', save_best_only=True),\n",
        "    EarlyStopping(monitor='val_loss',\n",
        "                  patience=4)\n",
        "]\n",
        "\n",
        "# Train the model\n",
        "history = model.fit(\n",
        "    x_train, y_train,\n",
        "    batch_size=128,\n",
        "    epochs=20,\n",
        "    validation_split=0.2,\n",
        "    callbacks=callbacks\n",
        ")"
      ],
      "metadata": {
        "colab": {
          "base_uri": "https://localhost:8080/"
        },
        "id": "U4Hf9OMdlvR-",
        "outputId": "5f43a956-4676-4a99-da4a-83d39d07c705"
      },
      "execution_count": 6,
      "outputs": [
        {
          "output_type": "stream",
          "name": "stdout",
          "text": [
            "Epoch 1/20\n",
            "\u001b[1m107/107\u001b[0m \u001b[32m━━━━━━━━━━━━━━━━━━━━\u001b[0m\u001b[37m\u001b[0m \u001b[1m3s\u001b[0m 14ms/step - accuracy: 0.2697 - loss: 1.9997 - val_accuracy: 0.0035 - val_loss: 6.6828\n",
            "Epoch 2/20\n",
            "\u001b[1m107/107\u001b[0m \u001b[32m━━━━━━━━━━━━━━━━━━━━\u001b[0m\u001b[37m\u001b[0m \u001b[1m1s\u001b[0m 10ms/step - accuracy: 0.7832 - loss: 0.7144 - val_accuracy: 0.0035 - val_loss: 7.6329\n",
            "Epoch 3/20\n",
            "\u001b[1m107/107\u001b[0m \u001b[32m━━━━━━━━━━━━━━━━━━━━\u001b[0m\u001b[37m\u001b[0m \u001b[1m1s\u001b[0m 11ms/step - accuracy: 0.8835 - loss: 0.3434 - val_accuracy: 0.0035 - val_loss: 8.2079\n",
            "Epoch 4/20\n",
            "\u001b[1m107/107\u001b[0m \u001b[32m━━━━━━━━━━━━━━━━━━━━\u001b[0m\u001b[37m\u001b[0m \u001b[1m1s\u001b[0m 10ms/step - accuracy: 0.9340 - loss: 0.2236 - val_accuracy: 0.0035 - val_loss: 8.7147\n",
            "Epoch 5/20\n",
            "\u001b[1m107/107\u001b[0m \u001b[32m━━━━━━━━━━━━━━━━━━━━\u001b[0m\u001b[37m\u001b[0m \u001b[1m1s\u001b[0m 9ms/step - accuracy: 0.9528 - loss: 0.1586 - val_accuracy: 0.0035 - val_loss: 8.8956\n"
          ]
        }
      ]
    },
    {
      "cell_type": "markdown",
      "source": [
        "# Task5: Evaluate the Model\n",
        "\n",
        "* After training, check how well the model works on the test data using model.evaluate().\n",
        "* Report the test accuracy and loss."
      ],
      "metadata": {
        "id": "zjYR841diixy"
      }
    },
    {
      "cell_type": "code",
      "source": [
        "# Task 5: Evaluate the Model\n",
        "test_loss, test_acc = model.evaluate(x_test, y_test)\n",
        "print(f\"Test accuracy: {test_acc:.4f}, Test loss: {test_loss:.4f}\")"
      ],
      "metadata": {
        "colab": {
          "base_uri": "https://localhost:8080/"
        },
        "id": "vUQn9f3ql1vn",
        "outputId": "8d28f282-a8ba-4e2b-eac5-5cdab9707561"
      },
      "execution_count": 7,
      "outputs": [
        {
          "output_type": "stream",
          "name": "stdout",
          "text": [
            "\u001b[1m94/94\u001b[0m \u001b[32m━━━━━━━━━━━━━━━━━━━━\u001b[0m\u001b[37m\u001b[0m \u001b[1m0s\u001b[0m 2ms/step - accuracy: 0.9320 - loss: 0.3690\n",
            "Test accuracy: 0.7590, Test loss: 1.9126\n"
          ]
        }
      ]
    },
    {
      "cell_type": "markdown",
      "source": [
        "#Task 6: Save and Load the Model\n",
        "\n",
        "* Save the trained model as a file (e.g., my_model.h5) using model.save().\n",
        "* Load it back with load_model() and test it again to make sure it works."
      ],
      "metadata": {
        "id": "ZncYEzMBipP0"
      }
    },
    {
      "cell_type": "code",
      "source": [
        "# Task 6: Save and Load the Model\n",
        "# Save the model\n",
        "model.save('devnagari_model.keras')\n",
        "\n",
        "# Load it back\n",
        "loaded_model = tf.keras.models.load_model('devnagari_model.keras')\n",
        "\n",
        "# Evaluate\n",
        "loaded_test_loss, loaded_test_acc = loaded_model.evaluate(x_test, y_test, verbose=0)\n",
        "print(f\"Loaded model test accuracy: {loaded_test_acc:.4f}\")"
      ],
      "metadata": {
        "colab": {
          "base_uri": "https://localhost:8080/"
        },
        "id": "ia7mVX0ol4iX",
        "outputId": "8c72a468-d2f8-4a5e-aee0-6ccaf8a78a91"
      },
      "execution_count": 8,
      "outputs": [
        {
          "output_type": "stream",
          "name": "stdout",
          "text": [
            "Loaded model test accuracy: 0.7590\n"
          ]
        }
      ]
    },
    {
      "cell_type": "markdown",
      "source": [
        "#Task 7: Predictions\n",
        "\n",
        "* Use model.predict() to guess the digits in the test images.\n",
        "* Turn the model’s guesses (probabilities) into actual digit labels with np.argmax()."
      ],
      "metadata": {
        "id": "2lQuizK0iuER"
      }
    },
    {
      "cell_type": "code",
      "source": [
        "# Task 7: Predictions\n",
        "predictions = model.predict(x_test)\n",
        "predicted_labels = np.argmax(predictions, axis=1)\n",
        "true_labels = np.argmax(y_test, axis=1)\n",
        "\n",
        "# Print the first few predictions\n",
        "print(f\"Predicted label for first image: {predicted_labels[0]}\")\n",
        "print(f\"True label for first image: {true_labels[0]}\")"
      ],
      "metadata": {
        "colab": {
          "base_uri": "https://localhost:8080/"
        },
        "id": "vs2i0VtGl7pr",
        "outputId": "fb6a4120-2b19-49b5-8812-9383fc125010"
      },
      "execution_count": 9,
      "outputs": [
        {
          "output_type": "stream",
          "name": "stdout",
          "text": [
            "\u001b[1m94/94\u001b[0m \u001b[32m━━━━━━━━━━━━━━━━━━━━\u001b[0m\u001b[37m\u001b[0m \u001b[1m0s\u001b[0m 2ms/step\n",
            "Predicted label for first image: 0\n",
            "True label for first image: 0\n"
          ]
        }
      ]
    },
    {
      "cell_type": "markdown",
      "source": [
        "#Visualization"
      ],
      "metadata": {
        "id": "wVr8a5vJmOgC"
      }
    },
    {
      "cell_type": "code",
      "source": [
        "# Visualization: Training and Validation Loss/Accuracy\n",
        "plt.figure(figsize=(10, 5))\n",
        "\n",
        "# Plot Loss\n",
        "plt.subplot(1, 2, 1)\n",
        "plt.plot(history.history['loss'], label='Training Loss')\n",
        "plt.plot(history.history['val_loss'], label='Validation Loss')\n",
        "plt.xlabel('Epochs')\n",
        "plt.ylabel('Loss')\n",
        "plt.title('Training and Validation Loss')\n",
        "plt.legend()\n",
        "\n",
        "# Plot Accuracy\n",
        "plt.subplot(1, 2, 2)\n",
        "plt.plot(history.history['accuracy'], label='Training Accuracy')\n",
        "plt.plot(history.history['val_accuracy'], label='Validation Accuracy')\n",
        "plt.xlabel('Epochs')\n",
        "plt.ylabel('Accuracy')\n",
        "plt.title('Training and Validation Accuracy')\n",
        "plt.legend()\n",
        "\n",
        "plt.tight_layout()\n",
        "plt.show()"
      ],
      "metadata": {
        "colab": {
          "base_uri": "https://localhost:8080/",
          "height": 507
        },
        "id": "AodcAwBttpSM",
        "outputId": "aff660ad-2385-40ef-8a44-70b15d4035cb"
      },
      "execution_count": 10,
      "outputs": [
        {
          "output_type": "display_data",
          "data": {
            "text/plain": [
              "<Figure size 1000x500 with 2 Axes>"
            ],
            "image/png": "[encoded data removed]"
          },
          "metadata": {}
        }
      ]
    }
  ]
}