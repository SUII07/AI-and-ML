{
  "nbformat": 4,
  "nbformat_minor": 0,
  "metadata": {
    "colab": {
      "provenance": []
    },
    "kernelspec": {
      "name": "python3",
      "display_name": "Python 3"
    },
    "language_info": {
      "name": "python"
    }
  },
  "cells": [
    {
      "cell_type": "markdown",
      "source": [
        "Name: Sujal Banset\n",
        "\n",
        "Uni ID: 2357525\n",
        "\n",
        "Group: L6CG19"
      ],
      "metadata": {
        "id": "-zibFItl5k7U"
      }
    },
    {
      "cell_type": "markdown",
      "source": [
        "# **TO - DO - Task**"
      ],
      "metadata": {
        "id": "AGtJTH-0KlaB"
      }
    },
    {
      "cell_type": "markdown",
      "source": [
        "**Exercise on Functions:**"
      ],
      "metadata": {
        "id": "ZDbUJhNGKqN3"
      }
    },
    {
      "cell_type": "markdown",
      "source": [
        "Create a Python program that converts between different units of measurement.\n",
        "• The program should:\n",
        "1. Prompt the user to choose the type of conversion (e.g., length, weight, volume).\n",
        "2. Ask the user to input the value to be converted.\n",
        "3. Perform the conversion and display the result.\n",
        "4. Handle potential errors, such as invalid input or unsupported conversion types.\n",
        "• Requirements:\n",
        "1. Functions: Define at least one function to perform the conversion.\n",
        "2. Error Handling: Use try-except blocks to handle invalid input (e.g., non-numeric values).\n",
        "3. User Input: Prompt the user to select the conversion type and input the value.\n",
        "4. Docstrings: Include a docstring in your function to describe its purpose, parameters, and\n",
        "return value.\n",
        "• Conversion Options:\n",
        "1. Length:\n",
        "– Convert meters (m) to feet (ft).\n",
        "– Convert feet (ft) to meters (m).\n",
        "2. Weight:\n",
        "– Convert kilograms (kg) to pounds (lbs).\n",
        "– Convert pounds (lbs) to kilograms (kg).\n",
        "3. Volume:\n",
        "– Convert liters (L) to gallons (gal).\n",
        "– Convert gallons (gal) to liters (L)."
      ],
      "metadata": {
        "id": "hcwKj8p33kaC"
      }
    },
    {
      "cell_type": "code",
      "execution_count": 1,
      "metadata": {
        "id": "-00VgR64HNdd",
        "colab": {
          "base_uri": "https://localhost:8080/"
        },
        "outputId": "19a32d60-1088-4d42-dca5-25c7579a05cf"
      },
      "outputs": [
        {
          "output_type": "stream",
          "name": "stdout",
          "text": [
            "Unit Transformation Tool\n",
            "Options:\n",
            "- Length: meter_to_feet, feet_to_meter\n",
            "- Weight: kilo_to_pound, pound_to_kilo\n",
            "- Volume: liter_to_gallon, gallon_to_liter\n",
            "Enter the transformation type (e.g., 'meter_to_feet'): kilo_to_pound\n",
            "Enter the value to transform: 75\n",
            "Result: 75.00 kilograms = 165.35 pounds\n"
          ]
        }
      ],
      "source": [
        "# Task - 1:\n",
        "def transform_measurement(input_value, conversion_key):\n",
        "    transformations = {\n",
        "        \"meter_to_feet\": (3.28084, \"meters\", \"feet\"),\n",
        "        \"feet_to_meter\": (0.3048, \"feet\", \"meters\"),\n",
        "        \"kilo_to_pound\": (2.20462, \"kilograms\", \"pounds\"),\n",
        "        \"pound_to_kilo\": (0.453592, \"pounds\", \"kilograms\"),\n",
        "        \"liter_to_gallon\": (0.264172, \"liters\", \"gallons\"),\n",
        "        \"gallon_to_liter\": (3.78541, \"gallons\", \"liters\")\n",
        "    }\n",
        "\n",
        "    if conversion_key in transformations:\n",
        "        factor, from_unit, to_unit = transformations[conversion_key]\n",
        "        return input_value * factor, from_unit, to_unit\n",
        "    else:\n",
        "        return \"Unsupported transformation.\"\n",
        "\n",
        "def start_converter():\n",
        "    print(\"Unit Transformation Tool\")\n",
        "    print(\"Options:\")\n",
        "    print(\"- Length: meter_to_feet, feet_to_meter\")\n",
        "    print(\"- Weight: kilo_to_pound, pound_to_kilo\")\n",
        "    print(\"- Volume: liter_to_gallon, gallon_to_liter\")\n",
        "\n",
        "    try:\n",
        "        user_choice = input(\"Enter the transformation type (e.g., 'meter_to_feet'): \").strip()\n",
        "        user_value = float(input(\"Enter the value to transform: \"))\n",
        "        output = transform_measurement(user_value, user_choice)\n",
        "        if isinstance(output, str):\n",
        "            print(f\"Error: {output}\")\n",
        "        else:\n",
        "            transformed_value, from_unit, to_unit = output\n",
        "            print(f\"Result: {user_value:.2f} {from_unit} = {transformed_value:.2f} {to_unit}\")\n",
        "\n",
        "    except ValueError:\n",
        "        print(\"Invalid input! Please enter a numeric value.\")\n",
        "    except Exception as e:\n",
        "        print(f\"An unexpected issue occurred: {e}\")\n",
        "\n",
        "start_converter()"
      ]
    },
    {
      "cell_type": "markdown",
      "source": [
        "Create a Python program that performs various mathematical operations on a list of numbers.\n",
        "• The Program should:\n",
        "1. Prompt the user to choose an operation (e.g., find the sum, average, maximum, or minimum\n",
        "of the numbers).\n",
        "2. Ask the user to input a list of numbers (separated by spaces).\n",
        "\n",
        "18\n",
        "\n",
        "6CS012 Worksheet - 0 Siman Giri\n",
        "\n",
        "3. Perform the selected operation and display the result.\n",
        "4. Handle potential errors, such as invalid input or empty lists.\n",
        "• Requirements:\n",
        "\n",
        "1. Functions: Define at least one function for each operation (sum, average, maximum, mini-\n",
        "mum).\n",
        "\n",
        "2. Error Handling: Use try-except blocks to handle invalid input (e.g., non-numeric values or\n",
        "empty lists).\n",
        "3. User Input: Prompt the user to select the operation and input the list of numbers.\n",
        "4. Docstrings: Include a docstring in each function to describe its purpose, parameters, and\n",
        "return value."
      ],
      "metadata": {
        "id": "ZWQQnlwY3n-U"
      }
    },
    {
      "cell_type": "code",
      "source": [
        "#Task - 2:\n",
        "def compute_total(values):\n",
        "    return sum(values)\n",
        "\n",
        "def compute_mean(values):\n",
        "    return sum(values) / len(values) if values else None\n",
        "\n",
        "def get_highest(values):\n",
        "    return max(values)\n",
        "\n",
        "def get_lowest(values):\n",
        "    return min(values)\n",
        "\n",
        "def run_program():\n",
        "    print(\"Choose an operation:\")\n",
        "    print(\"1: Total Sum\")\n",
        "    print(\"2: Mean Value\")\n",
        "    print(\"3: Highest Number\")\n",
        "    print(\"4: Lowest Number\")\n",
        "\n",
        "    op = int(input(\"Enter operation number (1-4): \"))\n",
        "\n",
        "    raw_input = input(\"Enter numbers separated by spaces or commas: \")\n",
        "    num_list = [float(num) for num in raw_input.replace(\",\", \" \").split()]\n",
        "\n",
        "    if op == 1:\n",
        "        print(\"Total Sum:\", compute_total(num_list))\n",
        "    elif op == 2:\n",
        "        print(\"Mean Value:\", compute_mean(num_list))\n",
        "    elif op == 3:\n",
        "        print(\"Highest Number:\", get_highest(num_list))\n",
        "    elif op == 4:\n",
        "        print(\"Lowest Number:\", get_lowest(num_list))\n",
        "    else:\n",
        "        print(\"Invalid option!\")\n",
        "\n",
        "run_program()"
      ],
      "metadata": {
        "id": "1qLeRjkUKzij",
        "colab": {
          "base_uri": "https://localhost:8080/"
        },
        "outputId": "cfbeda69-c301-41df-90cc-493f5d0053f6"
      },
      "execution_count": 2,
      "outputs": [
        {
          "output_type": "stream",
          "name": "stdout",
          "text": [
            "Choose an operation:\n",
            "1: Total Sum\n",
            "2: Mean Value\n",
            "3: Highest Number\n",
            "4: Lowest Number\n",
            "Enter operation number (1-4): 2\n",
            "Enter numbers separated by spaces or commas: 2, 4, 5, 6, 8\n",
            "Mean Value: 5.0\n"
          ]
        }
      ]
    },
    {
      "cell_type": "markdown",
      "source": [
        "**Exercise on List Manipulation:**"
      ],
      "metadata": {
        "id": "Aj5Eg5FsQVgA"
      }
    },
    {
      "cell_type": "markdown",
      "source": [
        "1. Extract Every Other Element:\n",
        "Write a Python function that extracts every other element from a list, starting from the first element.\n",
        "• Requirements:\n",
        "– Define a function extract every other(lst) that takes a list lst as input and returns a\n",
        "new list containing every other element from the original list.\n",
        "– Example: For the input [1, 2, 3, 4, 5, 6], the output should be [1, 3, 5]."
      ],
      "metadata": {
        "id": "wl4tNTyj3sns"
      }
    },
    {
      "cell_type": "code",
      "source": [
        "3def extract_every_other(lst):\n",
        "    return lst[::2]  # Directly slice the list to get every other element\n",
        "\n",
        "def get_user_list():\n",
        "    try:\n",
        "        num_elements = int(input(\"How many numbers would you like to enter? \"))\n",
        "        if num_elements <= 0:\n",
        "            return print(\"Please enter a positive number.\")\n",
        "\n",
        "        user_list = [int(input(f\"Enter number {i + 1}: \")) for i in range(num_elements)]\n",
        "        return user_list\n",
        "    except ValueError:\n",
        "        print(\"Invalid input! Please enter a valid number.\")\n",
        "        return []\n",
        "\n",
        "print(\"Let's create a list of numbers and extract every other element.\")\n",
        "\n",
        "user_list = get_user_list()\n",
        "if user_list:\n",
        "    print(\"You entered:\", user_list)\n",
        "    print(\"Every other element:\", extract_every_other(user_list))"
      ],
      "metadata": {
        "id": "LHVG3VYZPNS4",
        "colab": {
          "base_uri": "https://localhost:8080/"
        },
        "outputId": "d2061282-7554-4123-c404-3a4acbd78c8d"
      },
      "execution_count": 3,
      "outputs": [
        {
          "output_type": "stream",
          "name": "stdout",
          "text": [
            "Let's create a list of numbers and extract every other element.\n",
            "How many numbers would you like to enter? 4\n",
            "Enter number 1: 12\n",
            "Enter number 2: 23\n",
            "Enter number 3: 45\n",
            "Enter number 4: 56\n",
            "You entered: [12, 23, 45, 56]\n",
            "Every other element: [12, 45]\n"
          ]
        }
      ]
    },
    {
      "cell_type": "markdown",
      "source": [
        "2. Slice a Sublist:\n",
        "Write a Python function that returns a sublist from a given list, starting from a specified index and\n",
        "ending at another specified index.\n",
        "• Requirements:\n",
        "– Define a function get sublist(lst, start, end) that takes a list lst, a starting index\n",
        "start, and an ending index end as input and returns the sublist from start to end (inclusive).\n",
        "– Example: For the input [1, 2, 3, 4, 5, 6] with start=2 and end=4, the output should\n",
        "be [3, 4, 5]."
      ],
      "metadata": {
        "id": "I_SV1hAb3voX"
      }
    },
    {
      "cell_type": "code",
      "source": [
        "# Slice a Sublist:\n",
        "def get_sublist(lst, start, end):\n",
        "    if start < 0 or end >= len(lst) or start > end:\n",
        "        return []\n",
        "\n",
        "    sublist = lst[start:end + 1]\n",
        "    return sublist\n",
        "\n",
        "example_list = [1, 2, 3, 4, 5, 6]\n",
        "result = get_sublist(example_list, 2, 4)\n",
        "print(result)"
      ],
      "metadata": {
        "id": "OhwVmGoEQ_-1",
        "colab": {
          "base_uri": "https://localhost:8080/"
        },
        "outputId": "3097cfea-764c-4bb5-cd0a-aa294ec5f48c"
      },
      "execution_count": 4,
      "outputs": [
        {
          "output_type": "stream",
          "name": "stdout",
          "text": [
            "[3, 4, 5]\n"
          ]
        }
      ]
    },
    {
      "cell_type": "markdown",
      "source": [
        "3. Reverse a List Using Slicing:\n",
        "Write a Python function that reverses a list using slicing.\n",
        "• Requirements:\n",
        "– Define a function reverse list(lst) that takes a list lst and returns a reversed list using\n",
        "slicing.\n",
        "– Example: For the input [1, 2, 3, 4, 5], the output should be [5, 4, 3, 2, 1]."
      ],
      "metadata": {
        "id": "djNkh6H03x5b"
      }
    },
    {
      "cell_type": "code",
      "source": [
        "# Reverse a List Using Slicing:\n",
        "def reverse_list(lst):\n",
        "    return lst[::-1]\n",
        "\n",
        "input_list = ['apple', 'banana', 'cherry', 'date', 'elderberry']\n",
        "reversed_list = reverse_list(input_list)\n",
        "print(\"Original List:\", input_list)\n",
        "print(\"Reversed List:\", reversed_list)"
      ],
      "metadata": {
        "id": "3YZUA6s_XOXc",
        "colab": {
          "base_uri": "https://localhost:8080/"
        },
        "outputId": "31343a90-0188-485e-e706-2c5521577ba9"
      },
      "execution_count": 5,
      "outputs": [
        {
          "output_type": "stream",
          "name": "stdout",
          "text": [
            "Original List: ['apple', 'banana', 'cherry', 'date', 'elderberry']\n",
            "Reversed List: ['elderberry', 'date', 'cherry', 'banana', 'apple']\n"
          ]
        }
      ]
    },
    {
      "cell_type": "markdown",
      "source": [
        "4. Remove the First and Last Elements:\n",
        "Write a Python function that removes the first and last elements of a list and returns the resulting\n",
        "sublist.\n",
        "• Requirements:\n",
        "– Define a function remove first last(lst) that takes a list lst and returns a sublist without\n",
        "the first and last elements using slicing.\n",
        "– Example: For the input [1, 2, 3, 4, 5], the output should be [2, 3, 4]."
      ],
      "metadata": {
        "id": "ZoTDtEx030-L"
      }
    },
    {
      "cell_type": "code",
      "source": [
        "# Remove the First and Last Elements:\n",
        "def remove_first_last(lst):\n",
        "\n",
        "    if len(lst) <= 2:\n",
        "        return []\n",
        "    return lst[1:-1]\n",
        "\n",
        "sample_list = ['apple', 'banana', 'cherry', 'date', 'elderberry']\n",
        "result = remove_first_last(sample_list)\n",
        "print(result)"
      ],
      "metadata": {
        "id": "fhV6ZKY9Xzno",
        "colab": {
          "base_uri": "https://localhost:8080/"
        },
        "outputId": "be35787e-cb50-456f-9bd9-5563be37bd4d"
      },
      "execution_count": 6,
      "outputs": [
        {
          "output_type": "stream",
          "name": "stdout",
          "text": [
            "['banana', 'cherry', 'date']\n"
          ]
        }
      ]
    },
    {
      "cell_type": "markdown",
      "source": [
        "5. Get the First n Elements:\n",
        "Write a Python function that extracts the first n elements from a list.\n",
        "• Requirements:\n",
        "– Define a function get first n(lst, n) that takes a list lst and an integer n as input and\n",
        "returns the first n elements of the list using slicing.\n",
        "– Example: For the input [1, 2, 3, 4, 5] with n=3, the output should be [1, 2, 3]."
      ],
      "metadata": {
        "id": "hizOVWak33aT"
      }
    },
    {
      "cell_type": "code",
      "source": [
        "# Get the First n Elements:\n",
        "def get_first_n(lst, n):\n",
        "    return lst[:n] if n >= 0 else []\n",
        "\n",
        "try:\n",
        "    user_input = input(\"Enter a list of elements (comma-separated): \")\n",
        "    user_list = [item.strip() for item in user_input.split(\",\")]\n",
        "\n",
        "    n = int(input(\"Enter the number of elements to extract: \"))\n",
        "\n",
        "    result = get_first_n(user_list, n)\n",
        "    print(f\"The first {n} elements are: {result}\")\n",
        "\n",
        "except ValueError:\n",
        "    print(\"Invalid input! Please ensure you enter a valid list and integer for 'n'.\")"
      ],
      "metadata": {
        "id": "_UH8qr4lYsNf",
        "colab": {
          "base_uri": "https://localhost:8080/"
        },
        "outputId": "7491e9a9-8ceb-4876-f57a-876bdd09a766"
      },
      "execution_count": 7,
      "outputs": [
        {
          "output_type": "stream",
          "name": "stdout",
          "text": [
            "Enter a list of elements (comma-separated): 1, 2, 3, 4, 5, 6\n",
            "Enter the number of elements to extract: 2\n",
            "The first 2 elements are: ['1', '2']\n"
          ]
        }
      ]
    },
    {
      "cell_type": "markdown",
      "source": [
        "6. Extract Elements from the End:\n",
        "Write a Python function that extracts the last n elements of a list using slicing.\n",
        "• Requirements:\n",
        "– Define a function get last n(lst, n) that takes a list lst and an integer n as input and\n",
        "returns the last n elements of the list.\n",
        "– Example: For the input [1, 2, 3, 4, 5] with n=2, the output should be [4, 5]."
      ],
      "metadata": {
        "id": "idP-A-PW35y9"
      }
    },
    {
      "cell_type": "code",
      "source": [
        "def get_last_n(lst, n):\n",
        "    if n <= 0:\n",
        "        return []\n",
        "    elif n > len(lst):\n",
        "        return lst\n",
        "    return lst[-n:]\n",
        "\n",
        "user_input = input(\"Enter a list of elements separated by spaces: \")\n",
        "user_list = user_input.split()\n",
        "try:\n",
        "    n = int(input(\"Enter the number of elements you want to extract from the end: \"))\n",
        "except ValueError:\n",
        "    print(\"Please enter a valid integer for the number of elements.\")\n",
        "    exit()\n",
        "\n",
        "result = get_last_n(user_list, n)\n",
        "print(f\"The last {n} elements of your list are: {result}\")"
      ],
      "metadata": {
        "id": "jWjgk03tZiAp",
        "colab": {
          "base_uri": "https://localhost:8080/"
        },
        "outputId": "23a6c2c1-51db-4269-8bea-d24c3f982a09"
      },
      "execution_count": 8,
      "outputs": [
        {
          "output_type": "stream",
          "name": "stdout",
          "text": [
            "Enter a list of elements separated by spaces: 2, 4, 6, 8, 10, 12\n",
            "Enter the number of elements you want to extract from the end: 3\n",
            "The last 3 elements of your list are: ['8,', '10,', '12']\n"
          ]
        }
      ]
    },
    {
      "cell_type": "markdown",
      "source": [
        "7. Extract Elements in Reverse Order:\n",
        "Write a Python function that extracts a list of elements in reverse order starting from the second-to-last element and skipping one element in between. • Requirements:\n",
        "– Define a function reverse skip(lst) that takes a list lst and returns a new list containing every second element starting from the second-to-last, moving backward.\n",
        " – Example: For the input [1, 2, 3, 4, 5, 6], the output should be [5, 3, 1]."
      ],
      "metadata": {
        "id": "oYJfciIk4C0K"
      }
    },
    {
      "cell_type": "code",
      "source": [
        "# Extract Elements in Reverse Order:\n",
        "def reverse_skip(lst):\n",
        "    return lst[-2::-2]\n",
        "\n",
        "user_input = input(\"Enter a list of elements separated by spaces: \")\n",
        "user_list = user_input.split()\n",
        "result = reverse_skip(user_list)\n",
        "print(f\"The reversed list with every second element skipped is: {result}\")\n"
      ],
      "metadata": {
        "id": "a71dDY9PZlnI",
        "colab": {
          "base_uri": "https://localhost:8080/"
        },
        "outputId": "9ef01f0c-c996-484e-81d3-75f71c781664"
      },
      "execution_count": 9,
      "outputs": [
        {
          "output_type": "stream",
          "name": "stdout",
          "text": [
            "Enter a list of elements separated by spaces: 3, 5, 7, 9, 12\n",
            "The reversed list with every second element skipped is: ['9,', '5,']\n"
          ]
        }
      ]
    },
    {
      "cell_type": "markdown",
      "source": [
        "# **Exercise on Nested List:**"
      ],
      "metadata": {
        "id": "drKHAg4lfnPi"
      }
    },
    {
      "cell_type": "markdown",
      "source": [
        "1. Flatten a Nested List:\n",
        "Write a Python function that takes a nested list and flattens it into a single list, where all the elements\n",
        "are in a single dimension.\n",
        "• Requirements:\n",
        "– Define a function flatten(lst) that takes a nested list lst and returns a flattened version\n",
        "of the list.\n",
        "– Example: For the input [[1, 2], [3, 4], [5]], the output should be [1, 2, 3, 4, 5]."
      ],
      "metadata": {
        "id": "wBafsgH24OZz"
      }
    },
    {
      "cell_type": "code",
      "source": [
        "#Flatten a Nested List:\n",
        "def flatten(lst):\n",
        "\n",
        "    stack = lst[::-1]\n",
        "    result = []\n",
        "\n",
        "    while stack:\n",
        "        current = stack.pop()\n",
        "        if isinstance(current, list):\n",
        "            stack.extend(current[::-1])\n",
        "        else:\n",
        "            result.append(current)\n",
        "\n",
        "    return result\n",
        "\n",
        "nested_list = [[1, 2], [3, 4], [5]]\n",
        "flattened_list = flatten(nested_list)\n",
        "print(flattened_list)"
      ],
      "metadata": {
        "id": "LkPs9JmUbsn9",
        "colab": {
          "base_uri": "https://localhost:8080/"
        },
        "outputId": "47cdb764-be60-456a-fce5-e7a9c98e694a"
      },
      "execution_count": 10,
      "outputs": [
        {
          "output_type": "stream",
          "name": "stdout",
          "text": [
            "[1, 2, 3, 4, 5]\n"
          ]
        }
      ]
    },
    {
      "cell_type": "markdown",
      "source": [
        "2. Accessing Nested List Elements:\n",
        "Write a Python function that extracts a specific element from a nested list given its indices.\n",
        "• Requirements:\n",
        "– Define a function access nested element(lst, indices) that takes a nested list lst and\n",
        "a list of indices indices, and returns the element at that position.\n",
        "– Example: For the input lst = [[1, 2, 3], [4, 5, 6], [7, 8, 9]] with indices = [1,\n",
        "2], the output should be 6."
      ],
      "metadata": {
        "id": "cGCoExgV4QiK"
      }
    },
    {
      "cell_type": "code",
      "source": [
        "# Accessing Nested List Elements:\n",
        "def access_nested_element(lst, indices):\n",
        "    current = lst\n",
        "    for index in indices:\n",
        "        current = current[index]\n",
        "    return current\n",
        "\n",
        "nested_list = [[1, 2, 3], [4, 5, 6], [7, 8, 9]]\n",
        "indices = [1, 2]\n",
        "result = access_nested_element(nested_list, indices)\n",
        "print(result)"
      ],
      "metadata": {
        "id": "DWWENWx4fs36",
        "colab": {
          "base_uri": "https://localhost:8080/"
        },
        "outputId": "66aeb753-73fd-4848-8c04-b272a46c1df0"
      },
      "execution_count": 11,
      "outputs": [
        {
          "output_type": "stream",
          "name": "stdout",
          "text": [
            "6\n"
          ]
        }
      ]
    },
    {
      "cell_type": "markdown",
      "source": [
        "3. Sum of All Elements in a Nested List:\n",
        "Write a Python function that calculates the sum of all the numbers in a nested list (regardless of depth).\n",
        "• Requirements:\n",
        "– Define a function sum nested(lst) that takes a nested list lst and returns the sum of all\n",
        "the elements.\n",
        "– Example: For the input [[1, 2], [3, [4, 5]], 6], the output should be 21."
      ],
      "metadata": {
        "id": "5tHYcPV44TaM"
      }
    },
    {
      "cell_type": "code",
      "source": [
        "#Sum of All Elements in a Nested List:\n",
        "def sum_nested(lst):\n",
        "    return sum(\n",
        "        sum_nested(item) if isinstance(item, list) else item\n",
        "        for item in lst\n",
        "    )\n",
        "\n",
        "nested_list = [[1, 2], [3, [4, 5]], 6]\n",
        "result = sum_nested(nested_list)\n",
        "print(result)"
      ],
      "metadata": {
        "id": "ROEotsVpfu5S",
        "colab": {
          "base_uri": "https://localhost:8080/"
        },
        "outputId": "f7ea09c2-3850-4e9f-ab83-b878eb92add1"
      },
      "execution_count": 12,
      "outputs": [
        {
          "output_type": "stream",
          "name": "stdout",
          "text": [
            "21\n"
          ]
        }
      ]
    },
    {
      "cell_type": "markdown",
      "source": [
        "4. Remove Specific Element from a Nested List:\n",
        "Write a Python function that removes all occurrences of a specific element from a nested list.\n",
        "• Requirements:\n",
        "– Define a function remove element(lst, elem) that removes elem from lst and returns the\n",
        "modified list.\n",
        "– Example: For the input lst = [[1, 2], [3, 2], [4, 5]] and elem = 2, the output should\n",
        "be [[1], [3], [4, 5]]."
      ],
      "metadata": {
        "id": "ZdH7L3Lc4VkE"
      }
    },
    {
      "cell_type": "code",
      "source": [
        "#Remove Specific Element from a Nested List:\n",
        "def remove_element(lst, elem):\n",
        "    return [\n",
        "        remove_element(item, elem) if isinstance(item, list) else item\n",
        "        for item in lst\n",
        "        if item != elem\n",
        "    ]\n",
        "\n",
        "nested_list = [[1, 2], [3, 2], [4, 5]]\n",
        "element_to_remove = 2\n",
        "result = remove_element(nested_list, element_to_remove)\n",
        "print(result)"
      ],
      "metadata": {
        "id": "GAP6qmHsfw0g",
        "colab": {
          "base_uri": "https://localhost:8080/"
        },
        "outputId": "4c73988b-5590-4157-db5f-61cb0f0f5810"
      },
      "execution_count": 13,
      "outputs": [
        {
          "output_type": "stream",
          "name": "stdout",
          "text": [
            "[[1], [3], [4, 5]]\n"
          ]
        }
      ]
    },
    {
      "cell_type": "markdown",
      "source": [
        "5. Find the Maximum Element in a Nested List:\n",
        "Write a Python function that finds the maximum element in a nested list (regardless of depth).\n",
        "• Requirements:\n",
        "– Define a function find max(lst) that takes a nested list lst and returns the maximum\n",
        "element.\n",
        "– Example: For the input [[1, 2], [3, [4, 5]], 6], the output should be 6."
      ],
      "metadata": {
        "id": "YRrSSh7C4YIT"
      }
    },
    {
      "cell_type": "code",
      "source": [
        "#Find the Maximum Element in a Nested List:\n",
        "def find_max(lst):\n",
        "    stack = list(lst)\n",
        "    max_value = float('-inf')\n",
        "\n",
        "    while stack:\n",
        "        current = stack.pop()\n",
        "\n",
        "        if isinstance(current, list):\n",
        "            stack.extend(current)\n",
        "        else:\n",
        "            max_value = max(max_value, current)\n",
        "\n",
        "    return max_value\n",
        "\n",
        "nested_list = [[1, 2], [3, [4, 5]], 6]\n",
        "result = find_max(nested_list)\n",
        "print(result)"
      ],
      "metadata": {
        "id": "3KpIJHsffyvy",
        "colab": {
          "base_uri": "https://localhost:8080/"
        },
        "outputId": "a0197759-33e6-44e5-c209-54c8ba0d5316"
      },
      "execution_count": 14,
      "outputs": [
        {
          "output_type": "stream",
          "name": "stdout",
          "text": [
            "6\n"
          ]
        }
      ]
    },
    {
      "cell_type": "markdown",
      "source": [
        "6. Count Occurrences of an Element in a Nested List:\n",
        "Write a Python function that counts how many times a specific element appears in a nested list.\n",
        "• Requirements:\n",
        "– Define a function count occurrences(lst, elem) that counts the occurrences of elem in\n",
        "the nested list lst.\n",
        "– Example: For the input lst = [[1, 2], [2, 3], [2, 4]] and elem = 2, the output should\n",
        "be 3."
      ],
      "metadata": {
        "id": "yJZXbzXX4ajz"
      }
    },
    {
      "cell_type": "code",
      "source": [
        "#Count Occurrences of an Element in a Nested List:\n",
        "def count_occurrences(lst, elem):\n",
        "\n",
        "    def traverse(nested):\n",
        "        for item in nested:\n",
        "            if isinstance(item, list):\n",
        "                yield from traverse(item)\n",
        "            elif item == elem:\n",
        "                yield 1\n",
        "\n",
        "    return sum(traverse(lst))\n",
        "\n",
        "nested_list = [[1, 2], [2, 3], [2, 4]]\n",
        "element_to_count = 2\n",
        "result = count_occurrences(nested_list, element_to_count)\n",
        "print(result)"
      ],
      "metadata": {
        "id": "xfDSKdNbf045",
        "colab": {
          "base_uri": "https://localhost:8080/"
        },
        "outputId": "2db080e5-9556-40cf-fdfe-5b7968882b77"
      },
      "execution_count": 15,
      "outputs": [
        {
          "output_type": "stream",
          "name": "stdout",
          "text": [
            "3\n"
          ]
        }
      ]
    },
    {
      "cell_type": "markdown",
      "source": [
        "7. Flatten a List of Lists of Lists:\n",
        "Write a Python function that flattens a list of lists of lists into a single list, regardless of the depth.\n",
        "• Requirements:\n",
        "– Define a function deep flatten(lst) that takes a deeply nested list lst and returns a single\n",
        "flattened list.\n",
        "– Example: For the input [[[1, 2], [3, 4]], [[5, 6], [7, 8]]], the output should be\n",
        "[1, 2, 3, 4, 5, 6, 7, 8]."
      ],
      "metadata": {
        "id": "xjtHHfD34cm7"
      }
    },
    {
      "cell_type": "code",
      "source": [
        "#Flatten a List of Lists of Lists:\n",
        "def deep_flatten(lst):\n",
        "    stack = list(lst)\n",
        "    result = []\n",
        "\n",
        "    while stack:\n",
        "        current = stack.pop()\n",
        "        if isinstance(current, list):\n",
        "            stack.extend(current[::-1])\n",
        "        else:\n",
        "            result.append(current)\n",
        "\n",
        "    return result\n",
        "\n",
        "nested_list = [[[1, 2], [3, 4]], [[5, 6], [7, 8]]]\n",
        "flattened_list = deep_flatten(nested_list)\n",
        "print(flattened_list)"
      ],
      "metadata": {
        "id": "5jhXPrVcf27S",
        "colab": {
          "base_uri": "https://localhost:8080/"
        },
        "outputId": "4def8ba4-821d-4b53-988a-3efd8e3c579b"
      },
      "execution_count": 16,
      "outputs": [
        {
          "output_type": "stream",
          "name": "stdout",
          "text": [
            "[5, 6, 7, 8, 1, 2, 3, 4]\n"
          ]
        }
      ]
    },
    {
      "cell_type": "markdown",
      "source": [
        "8. Nested List Average:\n",
        "Write a Python function that calculates the average of all elements in a nested list.\n",
        "• Requirements:\n",
        "– Define a function average nested(lst) that takes a nested list lst and returns the average\n",
        "of all the elements.\n",
        "– Example: For the input [[1, 2], [3, 4], [5, 6]], the output should be 3.5."
      ],
      "metadata": {
        "id": "X1R-vPsC4esc"
      }
    },
    {
      "cell_type": "code",
      "source": [
        "#Nested List Average:\n",
        "def average_nested(lst):\n",
        "    stack = list(lst)\n",
        "    total = 0\n",
        "    count = 0\n",
        "\n",
        "    while stack:\n",
        "        current = stack.pop()\n",
        "\n",
        "        if isinstance(current, list):\n",
        "            stack.extend(current)\n",
        "        else:\n",
        "            total += current\n",
        "            count += 1\n",
        "\n",
        "    return total / count if count > 0 else 0\n",
        "\n",
        "nested_list = [[1, 2], [3, 4], [5, 6]]\n",
        "result = average_nested(nested_list)\n",
        "print(result)"
      ],
      "metadata": {
        "id": "XDCnKpGPf6Ra",
        "colab": {
          "base_uri": "https://localhost:8080/"
        },
        "outputId": "70ae6000-d874-445d-cfe4-db20dfb8a049"
      },
      "execution_count": 17,
      "outputs": [
        {
          "output_type": "stream",
          "name": "stdout",
          "text": [
            "3.5\n"
          ]
        }
      ]
    },
    {
      "cell_type": "markdown",
      "source": [
        "# **To - Do - NumPy**"
      ],
      "metadata": {
        "id": "b0H9gxXxpNxx"
      }
    },
    {
      "cell_type": "markdown",
      "source": [
        "**Basic Vector and Matrix Operation with Numpy.**"
      ],
      "metadata": {
        "id": "GJO5elYYpRfw"
      }
    },
    {
      "cell_type": "markdown",
      "source": [
        "**Problem - 1: Array Creation:**"
      ],
      "metadata": {
        "id": "5UDPYp3tql45"
      }
    },
    {
      "cell_type": "code",
      "source": [
        "import numpy as np"
      ],
      "metadata": {
        "id": "dE8y9XeUpB5N"
      },
      "execution_count": 18,
      "outputs": []
    },
    {
      "cell_type": "markdown",
      "source": [
        "Complete the following Tasks:\n",
        "1. Initialize an empty array with size 2X2.\n",
        "2. Initialize an all one array with size 4X2.\n",
        "3. Return a new array of given shape and type, filled with fill value.{Hint: np.full}\n",
        "4. Return a new array of zeros with same shape and type as a given array.{Hint: np.zeros like}\n",
        "5. Return a new array of ones with same shape and type as a given array.{Hint: np.ones like}\n",
        "6. For an existing list new_list = [1,2,3,4] convert to an numpy array.{Hint: np.array()}"
      ],
      "metadata": {
        "id": "G3HHX-U04o3i"
      }
    },
    {
      "cell_type": "code",
      "source": [
        "# Task 1: Initialize an empty array with size 2X2\n",
        "empty_array = np.empty((2, 2))\n",
        "print(\"Empty Array (2x2):\\n\", empty_array)"
      ],
      "metadata": {
        "id": "EkfoQlngpso4",
        "colab": {
          "base_uri": "https://localhost:8080/"
        },
        "outputId": "feda3cee-29c2-44f0-c036-28e5ade5c785"
      },
      "execution_count": 19,
      "outputs": [
        {
          "output_type": "stream",
          "name": "stdout",
          "text": [
            "Empty Array (2x2):\n",
            " [[1.97317976e-316 0.00000000e+000]\n",
            " [1.68891191e-052 4.17576778e-057]]\n"
          ]
        }
      ]
    },
    {
      "cell_type": "code",
      "source": [
        "# Task 2: Initialize an all-one array with size 4X2\n",
        "ones_array = np.ones((4, 2))\n",
        "print(\"\\nAll Ones Array (4x2):\\n\", ones_array)\n"
      ],
      "metadata": {
        "id": "ZFQTxkG3py5x",
        "colab": {
          "base_uri": "https://localhost:8080/"
        },
        "outputId": "5710edd8-dea5-423e-c04a-04947ec14eb9"
      },
      "execution_count": 20,
      "outputs": [
        {
          "output_type": "stream",
          "name": "stdout",
          "text": [
            "\n",
            "All Ones Array (4x2):\n",
            " [[1. 1.]\n",
            " [1. 1.]\n",
            " [1. 1.]\n",
            " [1. 1.]]\n"
          ]
        }
      ]
    },
    {
      "cell_type": "code",
      "source": [
        "# Task 3: Return a new array of given shape and type, filled with fill value\n",
        "fill_value = 2\n",
        "shape = (3, 3)\n",
        "filled_array = np.full(shape, fill_value, dtype=int)\n",
        "print(\"\\nFilled Array (3x3 with 7s):\\n\", filled_array)"
      ],
      "metadata": {
        "id": "R4aqGKcwqNMY",
        "colab": {
          "base_uri": "https://localhost:8080/"
        },
        "outputId": "3f2ecf54-28fe-48b4-b9f0-acd712507484"
      },
      "execution_count": 21,
      "outputs": [
        {
          "output_type": "stream",
          "name": "stdout",
          "text": [
            "\n",
            "Filled Array (3x3 with 7s):\n",
            " [[2 2 2]\n",
            " [2 2 2]\n",
            " [2 2 2]]\n"
          ]
        }
      ]
    },
    {
      "cell_type": "code",
      "source": [
        "# Task 4: Return a new array of zeros with same shape and type as a given array\n",
        "reference_array = np.array([[5, 6, 7], [8, 9, 10]])\n",
        "zeros_like_array = np.zeros_like(reference_array)\n",
        "print(\"\\nZeros Like Reference Array:\\n\", zeros_like_array)\n"
      ],
      "metadata": {
        "id": "HS5iO1uMqSAR",
        "colab": {
          "base_uri": "https://localhost:8080/"
        },
        "outputId": "5a2fe792-6564-4b86-a377-f7457633d16c"
      },
      "execution_count": 22,
      "outputs": [
        {
          "output_type": "stream",
          "name": "stdout",
          "text": [
            "\n",
            "Zeros Like Reference Array:\n",
            " [[0 0 0]\n",
            " [0 0 0]]\n"
          ]
        }
      ]
    },
    {
      "cell_type": "code",
      "source": [
        "# Task 5: Return a new array of ones with same shape and type as a given array\n",
        "ones_like_array = np.ones_like(reference_array)\n",
        "print(\"\\nOnes Like Reference Array:\\n\", ones_like_array)"
      ],
      "metadata": {
        "id": "GkF5zjaVqU4A",
        "colab": {
          "base_uri": "https://localhost:8080/"
        },
        "outputId": "0b5b54ac-0865-4f47-d388-69b5c55a6f5e"
      },
      "execution_count": 23,
      "outputs": [
        {
          "output_type": "stream",
          "name": "stdout",
          "text": [
            "\n",
            "Ones Like Reference Array:\n",
            " [[1 1 1]\n",
            " [1 1 1]]\n"
          ]
        }
      ]
    },
    {
      "cell_type": "code",
      "source": [
        "# Task 6: Convert an existing list to a NumPy array\n",
        "new_list = [1, 2, 3, 4]\n",
        "numpy_array = np.array(new_list)\n",
        "print(\"\\nConverted NumPy Array:\\n\", numpy_array)"
      ],
      "metadata": {
        "id": "QgHqGxEeqXHY",
        "colab": {
          "base_uri": "https://localhost:8080/"
        },
        "outputId": "1642fd96-563a-49e1-ca3a-9414bb52872e"
      },
      "execution_count": 24,
      "outputs": [
        {
          "output_type": "stream",
          "name": "stdout",
          "text": [
            "\n",
            "Converted NumPy Array:\n",
            " [1 2 3 4]\n"
          ]
        }
      ]
    },
    {
      "cell_type": "markdown",
      "source": [
        "**Problem - 2: Array Manipulation: Numerical Ranges and Array indexing:**"
      ],
      "metadata": {
        "id": "MfMW8m7VqqMZ"
      }
    },
    {
      "cell_type": "markdown",
      "source": [
        "Complete the following tasks:\n",
        "1. Create an array with values ranging from 10 to 49. {Hint:np.arrange()}.\n",
        "2. Create a 3X3 matrix with values ranging from 0 to 8.\n",
        "{Hint:look for np.reshape()}\n",
        "3. Create a 3X3 identity matrix.{Hint:np.eye()}\n",
        "4. Create a random array of size 30 and find the mean of the array.\n",
        "{Hint:check for np.random.random() and array.mean() function}\n",
        "5. Create a 10X10 array with random values and find the minimum and maximum values.\n",
        "6. Create a zero array of size 10 and replace 5th element with 1.\n",
        "7. Reverse an array arr = [1,2,0,0,4,0].\n",
        "8. Create a 2d array with 1 on border and 0 inside.\n",
        "9. Create a 8X8 matrix and fill it with a checkerboard pattern."
      ],
      "metadata": {
        "id": "JDZZcJ8v4sBr"
      }
    },
    {
      "cell_type": "code",
      "source": [
        "# Create an array with values ranging from 10 to 49.\n",
        "array_10_to_49 = np.arange(10, 50)\n",
        "print(\"Array from 10 to 49:\\n\", array_10_to_49)"
      ],
      "metadata": {
        "id": "e7XgDeezqseB",
        "colab": {
          "base_uri": "https://localhost:8080/"
        },
        "outputId": "d478776f-91e9-486e-bedb-7c55712c822e"
      },
      "execution_count": 25,
      "outputs": [
        {
          "output_type": "stream",
          "name": "stdout",
          "text": [
            "Array from 10 to 49:\n",
            " [10 11 12 13 14 15 16 17 18 19 20 21 22 23 24 25 26 27 28 29 30 31 32 33\n",
            " 34 35 36 37 38 39 40 41 42 43 44 45 46 47 48 49]\n"
          ]
        }
      ]
    },
    {
      "cell_type": "code",
      "source": [
        "# Create a 3X3 matrix with values ranging from 0 to 8.\n",
        "matrix_3x3 = np.arange(9).reshape((3, 3))\n",
        "print(\"\\n3x3 Matrix with Values 0 to 8:\\n\", matrix_3x3)"
      ],
      "metadata": {
        "id": "Dek2Mq_CrDG5",
        "colab": {
          "base_uri": "https://localhost:8080/"
        },
        "outputId": "6e72dd8b-c71f-4352-9328-4c182e218811"
      },
      "execution_count": 26,
      "outputs": [
        {
          "output_type": "stream",
          "name": "stdout",
          "text": [
            "\n",
            "3x3 Matrix with Values 0 to 8:\n",
            " [[0 1 2]\n",
            " [3 4 5]\n",
            " [6 7 8]]\n"
          ]
        }
      ]
    },
    {
      "cell_type": "code",
      "source": [
        "# Create a 3x3 identity matrix\n",
        "identity_matrix = np.eye(3, dtype=int)\n",
        "print(\"\\n3x3 Identity Matrix:\\n\", identity_matrix)"
      ],
      "metadata": {
        "id": "3Nyx8rsvrPq4",
        "colab": {
          "base_uri": "https://localhost:8080/"
        },
        "outputId": "8350261c-ef9c-47a2-fc2b-dbe86b69f979"
      },
      "execution_count": 27,
      "outputs": [
        {
          "output_type": "stream",
          "name": "stdout",
          "text": [
            "\n",
            "3x3 Identity Matrix:\n",
            " [[1 0 0]\n",
            " [0 1 0]\n",
            " [0 0 1]]\n"
          ]
        }
      ]
    },
    {
      "cell_type": "code",
      "source": [
        "#Create a random array of size 30 and find the mean of the array.\n",
        "random_array = np.random.random(30)\n",
        "mean_value = random_array.mean()\n",
        "print(\"\\nRandom Array of Size 30:\\n\", random_array)\n",
        "print(\"Mean of the Array:\", mean_value)"
      ],
      "metadata": {
        "id": "O_E8FYDBrSGY",
        "colab": {
          "base_uri": "https://localhost:8080/"
        },
        "outputId": "f7432ad0-0251-4b6d-8d3b-30fd8aa60c7d"
      },
      "execution_count": 28,
      "outputs": [
        {
          "output_type": "stream",
          "name": "stdout",
          "text": [
            "\n",
            "Random Array of Size 30:\n",
            " [0.41800627 0.50360345 0.5742206  0.53306338 0.75888015 0.58468524\n",
            " 0.20000877 0.05354923 0.76062495 0.27553894 0.66035022 0.99940841\n",
            " 0.23126872 0.30454666 0.22475072 0.76451196 0.33965808 0.68172894\n",
            " 0.57580919 0.43461994 0.1731282  0.56832428 0.53955503 0.07890003\n",
            " 0.15319488 0.52567213 0.58114672 0.29507126 0.57594007 0.44229806]\n",
            "Mean of the Array: 0.4604021487230533\n"
          ]
        }
      ]
    },
    {
      "cell_type": "code",
      "source": [
        "# Create a 10X10 array with random values and find the minimum and maximum values.\n",
        "random_10x10 = np.random.random((10, 10))\n",
        "min_value = random_10x10.min()\n",
        "max_value = random_10x10.max()\n",
        "print(\"\\n10x10 Random Array:\\n\", random_10x10)\n",
        "print(\"Minimum Value:\", min_value)\n",
        "print(\"Maximum Value:\", max_value)"
      ],
      "metadata": {
        "id": "unxUT-8IrY-u",
        "colab": {
          "base_uri": "https://localhost:8080/"
        },
        "outputId": "90a26137-5a57-4851-d4c3-73a95020d680"
      },
      "execution_count": 29,
      "outputs": [
        {
          "output_type": "stream",
          "name": "stdout",
          "text": [
            "\n",
            "10x10 Random Array:\n",
            " [[0.3970686  0.65991927 0.79468679 0.87331436 0.44033019 0.2293096\n",
            "  0.88168283 0.87058683 0.4527589  0.67348279]\n",
            " [0.91081159 0.96593415 0.76402741 0.68792352 0.90389485 0.13379011\n",
            "  0.39594296 0.59776812 0.15424918 0.86569242]\n",
            " [0.61224211 0.87346571 0.15230225 0.1153397  0.54478856 0.9411051\n",
            "  0.49659147 0.57224232 0.98154979 0.12880436]\n",
            " [0.96675928 0.71740003 0.91474197 0.14790838 0.72994916 0.65677703\n",
            "  0.06406771 0.6629822  0.52657697 0.68837048]\n",
            " [0.36903209 0.60535022 0.78100707 0.99400907 0.07579763 0.82502952\n",
            "  0.56644473 0.06974557 0.39424887 0.09271047]\n",
            " [0.59560286 0.73717837 0.32860608 0.789422   0.93990567 0.86102764\n",
            "  0.32906617 0.77318935 0.2332041  0.55340053]\n",
            " [0.02451558 0.26934591 0.02826645 0.13114822 0.58972761 0.06065624\n",
            "  0.71320273 0.77693235 0.43272351 0.41030534]\n",
            " [0.62791283 0.54935231 0.97994472 0.1855861  0.99495347 0.45545572\n",
            "  0.06307807 0.29954207 0.5998913  0.79814612]\n",
            " [0.21779072 0.92365563 0.3992223  0.99144124 0.07119511 0.40690355\n",
            "  0.54682668 0.23641355 0.49335654 0.78333598]\n",
            " [0.11835047 0.44906463 0.99414681 0.5330603  0.11076936 0.70644794\n",
            "  0.71412361 0.52784627 0.79096069 0.78505096]]\n",
            "Minimum Value: 0.024515582219380883\n",
            "Maximum Value: 0.9949534732944908\n"
          ]
        }
      ]
    },
    {
      "cell_type": "code",
      "source": [
        "#Create a zero array of size 10 and replace 5th element with 1.\n",
        "zero_array = np.zeros(10, dtype=int)\n",
        "zero_array[4] = 1\n",
        "print(\"\\nZero Array with 5th Element Replaced:\\n\", zero_array)"
      ],
      "metadata": {
        "id": "o9cYw2Igrfyn",
        "colab": {
          "base_uri": "https://localhost:8080/"
        },
        "outputId": "5cae6692-ece0-480a-e3eb-96945a27a44c"
      },
      "execution_count": 30,
      "outputs": [
        {
          "output_type": "stream",
          "name": "stdout",
          "text": [
            "\n",
            "Zero Array with 5th Element Replaced:\n",
            " [0 0 0 0 1 0 0 0 0 0]\n"
          ]
        }
      ]
    },
    {
      "cell_type": "code",
      "source": [
        "#Reverse an array arr = [1,2,0,0,4,0].\n",
        "arr = np.array([1, 2, 0, 0, 4, 0])\n",
        "reversed_arr = arr[::-1]\n",
        "print(\"\\nOriginal Array:\\n\", arr)\n",
        "print(\"Reversed Array:\\n\", reversed_arr)"
      ],
      "metadata": {
        "id": "zpppQUAwtfea",
        "colab": {
          "base_uri": "https://localhost:8080/"
        },
        "outputId": "151d1251-8c34-41e6-81f5-2805623d186b"
      },
      "execution_count": 31,
      "outputs": [
        {
          "output_type": "stream",
          "name": "stdout",
          "text": [
            "\n",
            "Original Array:\n",
            " [1 2 0 0 4 0]\n",
            "Reversed Array:\n",
            " [0 4 0 0 2 1]\n"
          ]
        }
      ]
    },
    {
      "cell_type": "code",
      "source": [
        "#Create a 2d array with 1 on border and 0 inside.\n",
        "border_array = np.ones((5, 5), dtype=int)\n",
        "border_array[1:-1, 1:-1] = 0\n",
        "print(\"\\n2D Array with 1 on Border and 0 Inside:\\n\", border_array)"
      ],
      "metadata": {
        "id": "ejFcZyWAtjFh",
        "colab": {
          "base_uri": "https://localhost:8080/"
        },
        "outputId": "b0f09a39-2e7c-4c76-b559-6cb4ef089782"
      },
      "execution_count": 32,
      "outputs": [
        {
          "output_type": "stream",
          "name": "stdout",
          "text": [
            "\n",
            "2D Array with 1 on Border and 0 Inside:\n",
            " [[1 1 1 1 1]\n",
            " [1 0 0 0 1]\n",
            " [1 0 0 0 1]\n",
            " [1 0 0 0 1]\n",
            " [1 1 1 1 1]]\n"
          ]
        }
      ]
    },
    {
      "cell_type": "code",
      "source": [
        "#Create a 8X8 matrix and fill it with a checkerboard pattern.\n",
        "checkerboard = np.zeros((8, 8), dtype=int)\n",
        "checkerboard[::2, ::2] = 1\n",
        "checkerboard[1::2, 1::2] = 1\n",
        "print(\"\\n8x8 Checkerboard Pattern:\\n\", checkerboard)\n"
      ],
      "metadata": {
        "id": "leFvg_-HtkDZ",
        "colab": {
          "base_uri": "https://localhost:8080/"
        },
        "outputId": "e46c7b7c-83d0-40dd-ee47-1bff1013d95e"
      },
      "execution_count": 33,
      "outputs": [
        {
          "output_type": "stream",
          "name": "stdout",
          "text": [
            "\n",
            "8x8 Checkerboard Pattern:\n",
            " [[1 0 1 0 1 0 1 0]\n",
            " [0 1 0 1 0 1 0 1]\n",
            " [1 0 1 0 1 0 1 0]\n",
            " [0 1 0 1 0 1 0 1]\n",
            " [1 0 1 0 1 0 1 0]\n",
            " [0 1 0 1 0 1 0 1]\n",
            " [1 0 1 0 1 0 1 0]\n",
            " [0 1 0 1 0 1 0 1]]\n"
          ]
        }
      ]
    },
    {
      "cell_type": "markdown",
      "source": [
        "**Problem - 3: Array Operations:**"
      ],
      "metadata": {
        "id": "CYY4IiX8udXR"
      }
    },
    {
      "cell_type": "markdown",
      "source": [
        "For the following arrays:\n",
        "x = np.array([[1,2],[3,5]]) and y = np.array([[5,6],[7,8]]);\n",
        "v = np.array([9,10]) and w = np.array([11,12]);\n",
        "Complete all the task using numpy:\n",
        "1. Add the two array.\n",
        "2. Subtract the two array.\n",
        "3. Multiply the array with any integers of your choice.\n",
        "4. Find the square of each element of the array.\n",
        "5. Find the dot product between: v(and)w ; x(and)v ; x(and)y.\n",
        "6. Concatenate x(and)y along row and Concatenate v(and)w along column.\n",
        "{Hint:try np.concatenate() or np.vstack() functions.\n",
        "7. Concatenate x(and)v; if you get an error, observe and explain why did you get the error?"
      ],
      "metadata": {
        "id": "pTT2uw344u_y"
      }
    },
    {
      "cell_type": "code",
      "source": [
        "# Define the arrays\n",
        "x = np.array([[1, 2], [3, 5]])\n",
        "y = np.array([[5, 6], [7, 8]])\n",
        "v = np.array([9, 10])\n",
        "w = np.array([11, 12])"
      ],
      "metadata": {
        "id": "FgT_j_KoyZDy"
      },
      "execution_count": 34,
      "outputs": []
    },
    {
      "cell_type": "code",
      "source": [
        "# 1. Add the two array.\n",
        "add_result = x + y\n",
        "print(\"Addition of x and y:\")\n",
        "print(add_result)"
      ],
      "metadata": {
        "id": "M8_I-Uq_uBBt",
        "colab": {
          "base_uri": "https://localhost:8080/"
        },
        "outputId": "19100358-992f-4106-a38c-e5e3d1455fd9"
      },
      "execution_count": 35,
      "outputs": [
        {
          "output_type": "stream",
          "name": "stdout",
          "text": [
            "Addition of x and y:\n",
            "[[ 6  8]\n",
            " [10 13]]\n"
          ]
        }
      ]
    },
    {
      "cell_type": "code",
      "source": [
        "# 2. Subtract the two array.\n",
        "subtract_result = x - y\n",
        "print(\"\\nSubtraction of x and y:\")\n",
        "print(subtract_result)"
      ],
      "metadata": {
        "id": "D1GH7FWcyI_y",
        "colab": {
          "base_uri": "https://localhost:8080/"
        },
        "outputId": "0b7fd827-d01e-4f51-cb3d-2d1d9021c979"
      },
      "execution_count": 36,
      "outputs": [
        {
          "output_type": "stream",
          "name": "stdout",
          "text": [
            "\n",
            "Subtraction of x and y:\n",
            "[[-4 -4]\n",
            " [-4 -3]]\n"
          ]
        }
      ]
    },
    {
      "cell_type": "code",
      "source": [
        "# 3. Multiply the array with any integers of your choice.\n",
        "multiply_result_x = x * 3\n",
        "multiply_result_y = y * 2\n",
        "print(\"\\nMultiplication of x by 3:\")\n",
        "print(multiply_result_x)\n",
        "print(\"\\nMultiplication of y by 2:\")\n",
        "print(multiply_result_y)"
      ],
      "metadata": {
        "id": "8nVcpVbfyLr5",
        "colab": {
          "base_uri": "https://localhost:8080/"
        },
        "outputId": "4f41341f-f155-4c25-dd21-7ea690a6f768"
      },
      "execution_count": 37,
      "outputs": [
        {
          "output_type": "stream",
          "name": "stdout",
          "text": [
            "\n",
            "Multiplication of x by 3:\n",
            "[[ 3  6]\n",
            " [ 9 15]]\n",
            "\n",
            "Multiplication of y by 2:\n",
            "[[10 12]\n",
            " [14 16]]\n"
          ]
        }
      ]
    },
    {
      "cell_type": "code",
      "source": [
        "# 4. Find the square of each element of the array.\n",
        "square_x = np.square(x)\n",
        "square_y = np.square(y)\n",
        "print(\"\\nSquare of each element in x:\")\n",
        "print(square_x)\n",
        "print(\"\\nSquare of each element in y:\")\n",
        "print(square_y)\n"
      ],
      "metadata": {
        "id": "iunhXmJCyNhZ",
        "colab": {
          "base_uri": "https://localhost:8080/"
        },
        "outputId": "67bd506d-2ee3-41af-84e2-c25fbe5ed77c"
      },
      "execution_count": 38,
      "outputs": [
        {
          "output_type": "stream",
          "name": "stdout",
          "text": [
            "\n",
            "Square of each element in x:\n",
            "[[ 1  4]\n",
            " [ 9 25]]\n",
            "\n",
            "Square of each element in y:\n",
            "[[25 36]\n",
            " [49 64]]\n"
          ]
        }
      ]
    },
    {
      "cell_type": "code",
      "source": [
        "# 5. Find the dot product between: v(and)w ; x(and)v ; x(and)y.\n",
        "dot_vw = np.dot(v, w)\n",
        "dot_xv = np.dot(x, v)\n",
        "dot_xy = np.dot(x, y)\n",
        "print(\"\\nDot product of v and w:\", dot_vw)\n",
        "print(\"Dot product of x and v:\", dot_xv)\n",
        "print(\"Dot product of x and y:\", dot_xy)"
      ],
      "metadata": {
        "id": "vFHZo1lOyPej",
        "colab": {
          "base_uri": "https://localhost:8080/"
        },
        "outputId": "89458310-ba94-4b75-f9a4-7d5c0126e36a"
      },
      "execution_count": 39,
      "outputs": [
        {
          "output_type": "stream",
          "name": "stdout",
          "text": [
            "\n",
            "Dot product of v and w: 219\n",
            "Dot product of x and v: [29 77]\n",
            "Dot product of x and y: [[19 22]\n",
            " [50 58]]\n"
          ]
        }
      ]
    },
    {
      "cell_type": "code",
      "source": [
        "# 6. Concatenate x(and)y along row and Concatenate v(and)w along column.\n",
        "concat_xy_rows = np.concatenate((x, y), axis=0)\n",
        "concat_vw_columns = np.concatenate((v.reshape(-1, 1), w.reshape(-1, 1)), axis=1)\n",
        "print(\"\\nConcatenation of x and y along rows:\")\n",
        "print(concat_xy_rows)\n",
        "print(\"\\nConcatenation of v and w along columns:\")\n",
        "print(concat_vw_columns)"
      ],
      "metadata": {
        "id": "MEPOmWhSyRlA",
        "colab": {
          "base_uri": "https://localhost:8080/"
        },
        "outputId": "5b8ec094-274c-4eb2-f3c6-2b2b670fb672"
      },
      "execution_count": 40,
      "outputs": [
        {
          "output_type": "stream",
          "name": "stdout",
          "text": [
            "\n",
            "Concatenation of x and y along rows:\n",
            "[[1 2]\n",
            " [3 5]\n",
            " [5 6]\n",
            " [7 8]]\n",
            "\n",
            "Concatenation of v and w along columns:\n",
            "[[ 9 11]\n",
            " [10 12]]\n"
          ]
        }
      ]
    },
    {
      "cell_type": "code",
      "source": [
        "# 7. Concatenate x(and)v; if you get an error, observe and explain why did you get the error?\n",
        "try:\n",
        "    concat_xv = np.concatenate((x, v), axis=1)\n",
        "    print(\"\\nConcatenation of x and v along rows:\")\n",
        "    print(concat_xv)\n",
        "except Exception as e:\n",
        "    print(\"\\nError while concatenating x and v:\", e)"
      ],
      "metadata": {
        "id": "tGryx3iByVY6",
        "colab": {
          "base_uri": "https://localhost:8080/"
        },
        "outputId": "d1b00116-090e-439e-8099-9bd6fc06125d"
      },
      "execution_count": 41,
      "outputs": [
        {
          "output_type": "stream",
          "name": "stdout",
          "text": [
            "\n",
            "Error while concatenating x and v: all the input arrays must have same number of dimensions, but the array at index 0 has 2 dimension(s) and the array at index 1 has 1 dimension(s)\n"
          ]
        }
      ]
    },
    {
      "cell_type": "markdown",
      "source": [
        "**Problem - 4: Matrix Operations:**"
      ],
      "metadata": {
        "id": "GrEMwNNP0brB"
      }
    },
    {
      "cell_type": "markdown",
      "source": [
        "• For the following arrays:\n",
        "A = np.array([[3,4],[7,8]]) and B = np.array([[5,3],[2,1]]);\n",
        "Prove following with Numpy:\n",
        "1. Prove A.A−1 = I.\n",
        "2. Prove AB ̸= BA.\n",
        "3. Prove (AB)\n",
        "\n",
        "T = BTAT\n",
        ".\n",
        "\n",
        "• Solve the following system of Linear equation using Inverse Methods.\n",
        "\n",
        "2x − 3y + z = −1\n",
        "x − y + 2z = −3\n",
        "3x + y − z = 9\n",
        "\n",
        "{Hint: First use Numpy array to represent the equation in Matrix form. Then Solve for: AX = B}\n",
        "\n",
        "• Now: solve the above equation using np.linalg.inv function.{Explore more about ”linalg” func-\n",
        "tion of Numpy}"
      ],
      "metadata": {
        "id": "mtFj3_A54xyz"
      }
    },
    {
      "cell_type": "code",
      "source": [
        "# Define matrices A and B\n",
        "A = np.array([[3, 4], [7, 8]])\n",
        "B = np.array([[5, 3], [2, 1]])"
      ],
      "metadata": {
        "id": "eoA-pPFE0X4M"
      },
      "execution_count": 42,
      "outputs": []
    },
    {
      "cell_type": "code",
      "source": [
        "# 1. Prove A.A^(-1) = I\n",
        "A_inv = np.linalg.inv(A)\n",
        "I = np.dot(A, A_inv)\n",
        "print(\"A * A⁻¹ =\\n\", I)"
      ],
      "metadata": {
        "id": "yqhQXVLI01u6",
        "colab": {
          "base_uri": "https://localhost:8080/"
        },
        "outputId": "0fcefe29-84ec-4957-dd7a-822a03dc9972"
      },
      "execution_count": 43,
      "outputs": [
        {
          "output_type": "stream",
          "name": "stdout",
          "text": [
            "A * A⁻¹ =\n",
            " [[1.00000000e+00 0.00000000e+00]\n",
            " [1.77635684e-15 1.00000000e+00]]\n"
          ]
        }
      ]
    },
    {
      "cell_type": "code",
      "source": [
        "#2. Prove AB ̸= BA.\n",
        "AB = np.dot(A, B)\n",
        "BA = np.dot(B, A)\n",
        "print(\"\\nA * B =\\n\", AB)\n",
        "print(\"B * A =\\n\", BA)\n",
        "print(\"\\nIs A * B equal to B * A?\", np.array_equal(AB, BA))"
      ],
      "metadata": {
        "id": "_4rHQPCO071D",
        "colab": {
          "base_uri": "https://localhost:8080/"
        },
        "outputId": "b78fc4e1-5644-4af3-ad86-981a6afac6ee"
      },
      "execution_count": 44,
      "outputs": [
        {
          "output_type": "stream",
          "name": "stdout",
          "text": [
            "\n",
            "A * B =\n",
            " [[23 13]\n",
            " [51 29]]\n",
            "B * A =\n",
            " [[36 44]\n",
            " [13 16]]\n",
            "\n",
            "Is A * B equal to B * A? False\n"
          ]
        }
      ]
    },
    {
      "cell_type": "code",
      "source": [
        "#3. Prove (AB)^T = B^TA^T\n",
        "AB_T = np.transpose(AB)\n",
        "B_T_A_T = np.dot(np.transpose(B), np.transpose(A))\n",
        "print(\"\\n(AB)ᵀ =\\n\", AB_T)\n",
        "print(\"Bᵀ * Aᵀ =\\n\", B_T_A_T)\n",
        "print(\"\\nIs (AB)ᵀ equal to Bᵀ * Aᵀ?\", np.array_equal(AB_T, B_T_A_T))"
      ],
      "metadata": {
        "id": "PUFndlsc09wJ",
        "colab": {
          "base_uri": "https://localhost:8080/"
        },
        "outputId": "04cf14a6-7892-4f59-a66b-f418eaa5d53a"
      },
      "execution_count": 45,
      "outputs": [
        {
          "output_type": "stream",
          "name": "stdout",
          "text": [
            "\n",
            "(AB)ᵀ =\n",
            " [[23 51]\n",
            " [13 29]]\n",
            "Bᵀ * Aᵀ =\n",
            " [[23 51]\n",
            " [13 29]]\n",
            "\n",
            "Is (AB)ᵀ equal to Bᵀ * Aᵀ? True\n"
          ]
        }
      ]
    },
    {
      "cell_type": "code",
      "source": [
        "# 4. Solve the system of linear equations using inverse methods\n",
        "# Represent the system as AX = B\n",
        "# Matrix A (coefficients) and B (right-hand side values)\n",
        "A_eq = np.array([[2, -3, 1], [1, -1, 2], [3, 1, -1]])\n",
        "B_eq = np.array([-1, -3, 9])"
      ],
      "metadata": {
        "id": "YS-aAeeo1WAo"
      },
      "execution_count": 47,
      "outputs": []
    },
    {
      "cell_type": "code",
      "source": [
        "# Solve for X using inverse method: X = A⁻¹ * B\n",
        "A_eq_inv = np.linalg.inv(A_eq)\n",
        "X = np.dot(A_eq_inv, B_eq)\n",
        "print(\"\\nSolution for the system of equations (X = [x, y, z]):\")\n",
        "print(X)\n"
      ],
      "metadata": {
        "id": "fLUV3vd71goi",
        "colab": {
          "base_uri": "https://localhost:8080/"
        },
        "outputId": "fcd1cdb3-4e86-4e12-bcdd-fe37adfb8e0a"
      },
      "execution_count": 48,
      "outputs": [
        {
          "output_type": "stream",
          "name": "stdout",
          "text": [
            "\n",
            "Solution for the system of equations (X = [x, y, z]):\n",
            "[ 2.  1. -2.]\n"
          ]
        }
      ]
    },
    {
      "cell_type": "code",
      "source": [
        "# 5. Solve the same system using np.linalg.solve\n",
        "X_solve = np.linalg.solve(A_eq, B_eq)\n",
        "print(\"\\nSolution using np.linalg.solve:\")\n",
        "print(X_solve)"
      ],
      "metadata": {
        "id": "jJn9nui01lSS",
        "colab": {
          "base_uri": "https://localhost:8080/"
        },
        "outputId": "71ef791b-fbba-44d1-bd90-4f59058f1534"
      },
      "execution_count": 49,
      "outputs": [
        {
          "output_type": "stream",
          "name": "stdout",
          "text": [
            "\n",
            "Solution using np.linalg.solve:\n",
            "[ 2.  1. -2.]\n"
          ]
        }
      ]
    },
    {
      "cell_type": "markdown",
      "source": [
        "# **10.2 Experiment: How Fast is Numpy?**"
      ],
      "metadata": {
        "id": "1K52Xv7jVn8v"
      }
    },
    {
      "cell_type": "code",
      "source": [
        "import time\n",
        "import numpy as np\n",
        "\n",
        "# Define sizes\n",
        "SIZE = 1_000_000\n",
        "MATRIX_SIZE = 1000\n",
        "\n",
        "# Initialize Python lists\n",
        "list1 = list(range(SIZE))\n",
        "list2 = list(range(SIZE))\n",
        "\n",
        "# Initialize NumPy arrays\n",
        "array1 = np.arange(SIZE)\n",
        "array2 = np.arange(SIZE)\n",
        "\n",
        "# 1. Element-wise Addition\n",
        "start_time = time.perf_counter()\n",
        "list_addition = [a + b for a, b in zip(list1, list2)]\n",
        "list_addition_time = time.perf_counter() - start_time\n",
        "print(f\"Python Lists Addition Time: {list_addition_time:.5f} seconds\")\n",
        "\n",
        "start_time = time.perf_counter()\n",
        "numpy_addition = array1 + array2\n",
        "numpy_addition_time = time.perf_counter() - start_time\n",
        "print(f\"NumPy Arrays Addition Time: {numpy_addition_time:.5f} seconds\")\n",
        "\n",
        "# 2. Element-wise Multiplication\n",
        "start_time = time.perf_counter()\n",
        "list_multiplication = [a * b for a, b in zip(list1, list2)]\n",
        "list_multiplication_time = time.perf_counter() - start_time\n",
        "print(f\"\\nPython Lists Multiplication Time: {list_multiplication_time:.5f} seconds\")\n",
        "\n",
        "start_time = time.perf_counter()\n",
        "numpy_multiplication = array1 * array2\n",
        "numpy_multiplication_time = time.perf_counter() - start_time\n",
        "print(f\"NumPy Arrays Multiplication Time: {numpy_multiplication_time:.5f} seconds\")\n",
        "\n",
        "# 3. Dot Product\n",
        "start_time = time.perf_counter()\n",
        "dot_product = sum(a * b for a, b in zip(list1, list2))\n",
        "list_dot_product_time = time.perf_counter() - start_time\n",
        "print(f\"\\nPython Lists Dot Product Time: {list_dot_product_time:.5f} seconds\")\n",
        "\n",
        "start_time = time.perf_counter()\n",
        "numpy_dot_product = np.dot(array1, array2)\n",
        "numpy_dot_product_time = time.perf_counter() - start_time\n",
        "print(f\"NumPy Arrays Dot Product Time: {numpy_dot_product_time:.5f} seconds\")\n",
        "\n",
        "# 4. Matrix Multiplication\n",
        "# Initialize Python matrices\n",
        "list_matrix1 = [list(range(MATRIX_SIZE)) for _ in range(MATRIX_SIZE)]\n",
        "list_matrix2 = [list(range(MATRIX_SIZE)) for _ in range(MATRIX_SIZE)]\n",
        "\n",
        "# Initialize NumPy matrices\n",
        "numpy_matrix1 = np.arange(MATRIX_SIZE**2).reshape(MATRIX_SIZE, MATRIX_SIZE)\n",
        "numpy_matrix2 = np.arange(MATRIX_SIZE**2).reshape(MATRIX_SIZE, MATRIX_SIZE)\n",
        "\n",
        "# Python matrix multiplication\n",
        "start_time = time.perf_counter()\n",
        "result_matrix = [[sum(a * b for a, b in zip(row, col)) for col in zip(*list_matrix2)] for row in list_matrix1]\n",
        "list_matrix_multiplication_time = time.perf_counter() - start_time\n",
        "print(f\"\\nPython Lists Matrix Multiplication Time: {list_matrix_multiplication_time:.5f} seconds\")\n",
        "\n",
        "# NumPy matrix multiplication\n",
        "start_time = time.perf_counter()\n",
        "numpy_matrix_multiplication = np.matmul(numpy_matrix1, numpy_matrix2)\n",
        "numpy_matrix_multiplication_time = time.perf_counter() - start_time\n",
        "print(f\"NumPy Arrays Matrix Multiplication Time: {numpy_matrix_multiplication_time:.5f} seconds\")\n"
      ],
      "metadata": {
        "colab": {
          "base_uri": "https://localhost:8080/"
        },
        "id": "S9m1HGpUVp6V",
        "outputId": "8b9e1222-70ad-4f67-886b-5d92d3f24f37"
      },
      "execution_count": 50,
      "outputs": [
        {
          "output_type": "stream",
          "name": "stdout",
          "text": [
            "Python Lists Addition Time: 0.09701 seconds\n",
            "NumPy Arrays Addition Time: 0.00949 seconds\n",
            "\n",
            "Python Lists Multiplication Time: 0.11540 seconds\n",
            "NumPy Arrays Multiplication Time: 0.00972 seconds\n",
            "\n",
            "Python Lists Dot Product Time: 0.07968 seconds\n",
            "NumPy Arrays Dot Product Time: 0.00192 seconds\n",
            "\n",
            "Python Lists Matrix Multiplication Time: 172.52304 seconds\n",
            "NumPy Arrays Matrix Multiplication Time: 2.32783 seconds\n"
          ]
        }
      ]
    }
  ]
}